{
 "cells": [
  {
   "cell_type": "code",
   "execution_count": 4,
   "id": "2b2ba679-ab44-49cf-8022-e811a1ea7c42",
   "metadata": {},
   "outputs": [],
   "source": [
    "import sys\n",
    "import os\n",
    "\n",
    "## add the src folder to the kernel path\n",
    "import sys\n",
    "sys.path.extend(['.', '..'])\n",
    "\n",
    "from corpora import NLMChemCorpus"
   ]
  },
  {
   "cell_type": "code",
   "execution_count": 6,
   "id": "354a34b0-ee15-48ae-aa4f-9e7e6a0901bb",
   "metadata": {},
   "outputs": [
    {
     "name": "stdout",
     "output_type": "stream",
     "text": [
      "Warning: in document '5600090', the annotation 'water', with original span (31358, 31363), did not match the passage text, but the correct span (31359, 31364) was automatically found.\n"
     ]
    }
   ],
   "source": [
    "corpus = NLMChemCorpus()"
   ]
  },
  {
   "cell_type": "code",
   "execution_count": 17,
   "id": "5756515a-3bc5-4db8-8ad1-ca019c1aa554",
   "metadata": {},
   "outputs": [
    {
     "data": {
      "text/plain": [
       "80"
      ]
     },
     "execution_count": 17,
     "metadata": {},
     "output_type": "execute_result"
    }
   ],
   "source": [
    "corpus.collections[\"train\"].n_documents"
   ]
  },
  {
   "cell_type": "code",
   "execution_count": 18,
   "id": "b612a60c-6fa9-4964-9520-86109f709062",
   "metadata": {},
   "outputs": [
    {
     "data": {
      "text/plain": [
       "20"
      ]
     },
     "execution_count": 18,
     "metadata": {},
     "output_type": "execute_result"
    }
   ],
   "source": [
    "corpus.collections[\"dev\"].n_documents"
   ]
  },
  {
   "cell_type": "code",
   "execution_count": 19,
   "id": "01be8f21-b221-4a42-9e33-12b93fddb95a",
   "metadata": {},
   "outputs": [
    {
     "data": {
      "text/plain": [
       "50"
      ]
     },
     "execution_count": 19,
     "metadata": {},
     "output_type": "execute_result"
    }
   ],
   "source": [
    "corpus.collections[\"test\"].n_documents"
   ]
  },
  {
   "cell_type": "code",
   "execution_count": null,
   "id": "ef395cb4-ef0b-48fd-b7d0-373e895842fa",
   "metadata": {},
   "outputs": [],
   "source": []
  }
 ],
 "metadata": {
  "kernelspec": {
   "display_name": "biocreative",
   "language": "python",
   "name": "biocreative"
  },
  "language_info": {
   "codemirror_mode": {
    "name": "ipython",
    "version": 3
   },
   "file_extension": ".py",
   "mimetype": "text/x-python",
   "name": "python",
   "nbconvert_exporter": "python",
   "pygments_lexer": "ipython3",
   "version": "3.6.9"
  }
 },
 "nbformat": 4,
 "nbformat_minor": 5
}
